{
 "cells": [
  {
   "cell_type": "code",
   "execution_count": 1,
   "id": "beebb57a",
   "metadata": {},
   "outputs": [],
   "source": [
    "# Importing all libraries required in this notebook\n",
    "import pandas as pd\n",
    "import numpy as np  \n",
    "import matplotlib.pyplot as plt  \n",
    "import seaborn as sns\n",
    "%matplotlib inline\n",
    "from sklearn.model_selection import train_test_split\n",
    "from sklearn.linear_model import LinearRegression\n",
    "from sklearn.ensemble import GradientBoostingRegressor\n",
    "from sklearn.linear_model import LogisticRegression\n",
    "import xgboost as xgb\n",
    "from sklearn.metrics import mean_absolute_error\n",
    "from sklearn.metrics import mean_squared_error\n",
    "from sklearn.metrics import r2_score"
   ]
  },
  {
   "cell_type": "markdown",
   "id": "dd5c7e1b",
   "metadata": {},
   "source": [
    "# Reading the data"
   ]
  },
  {
   "cell_type": "markdown",
   "id": "67d48c7c",
   "metadata": {},
   "source": [
    "The first step is to read the data from the .csv file."
   ]
  },
  {
   "cell_type": "code",
   "execution_count": 2,
   "id": "b140d9b0",
   "metadata": {},
   "outputs": [],
   "source": [
    "#Reading the data from file into a pandas dataframe\n",
    "df=pd.read_csv(\"student_scores.csv\")"
   ]
  },
  {
   "cell_type": "markdown",
   "id": "729272d2",
   "metadata": {},
   "source": [
    "Next we get some information regarding the data like the number of columns, datatype, number of null values, etc. "
   ]
  },
  {
   "cell_type": "code",
   "execution_count": 3,
   "id": "37f28f24",
   "metadata": {},
   "outputs": [
    {
     "name": "stdout",
     "output_type": "stream",
     "text": [
      "<class 'pandas.core.frame.DataFrame'>\n",
      "RangeIndex: 25 entries, 0 to 24\n",
      "Data columns (total 2 columns):\n",
      " #   Column  Non-Null Count  Dtype  \n",
      "---  ------  --------------  -----  \n",
      " 0   Hours   25 non-null     float64\n",
      " 1   Scores  25 non-null     int64  \n",
      "dtypes: float64(1), int64(1)\n",
      "memory usage: 528.0 bytes\n"
     ]
    }
   ],
   "source": [
    "df.info()"
   ]
  },
  {
   "cell_type": "markdown",
   "id": "2db109bc",
   "metadata": {},
   "source": [
    "Next, we print the first few rows just to get an idea about how the data looks like."
   ]
  },
  {
   "cell_type": "code",
   "execution_count": 4,
   "id": "630c5e25",
   "metadata": {},
   "outputs": [
    {
     "data": {
      "text/html": [
       "<div>\n",
       "<style scoped>\n",
       "    .dataframe tbody tr th:only-of-type {\n",
       "        vertical-align: middle;\n",
       "    }\n",
       "\n",
       "    .dataframe tbody tr th {\n",
       "        vertical-align: top;\n",
       "    }\n",
       "\n",
       "    .dataframe thead th {\n",
       "        text-align: right;\n",
       "    }\n",
       "</style>\n",
       "<table border=\"1\" class=\"dataframe\">\n",
       "  <thead>\n",
       "    <tr style=\"text-align: right;\">\n",
       "      <th></th>\n",
       "      <th>Hours</th>\n",
       "      <th>Scores</th>\n",
       "    </tr>\n",
       "  </thead>\n",
       "  <tbody>\n",
       "    <tr>\n",
       "      <th>0</th>\n",
       "      <td>2.5</td>\n",
       "      <td>21</td>\n",
       "    </tr>\n",
       "    <tr>\n",
       "      <th>1</th>\n",
       "      <td>5.1</td>\n",
       "      <td>47</td>\n",
       "    </tr>\n",
       "    <tr>\n",
       "      <th>2</th>\n",
       "      <td>3.2</td>\n",
       "      <td>27</td>\n",
       "    </tr>\n",
       "    <tr>\n",
       "      <th>3</th>\n",
       "      <td>8.5</td>\n",
       "      <td>75</td>\n",
       "    </tr>\n",
       "    <tr>\n",
       "      <th>4</th>\n",
       "      <td>3.5</td>\n",
       "      <td>30</td>\n",
       "    </tr>\n",
       "  </tbody>\n",
       "</table>\n",
       "</div>"
      ],
      "text/plain": [
       "   Hours  Scores\n",
       "0    2.5      21\n",
       "1    5.1      47\n",
       "2    3.2      27\n",
       "3    8.5      75\n",
       "4    3.5      30"
      ]
     },
     "execution_count": 4,
     "metadata": {},
     "output_type": "execute_result"
    }
   ],
   "source": [
    "#Printing the first 5 rows\n",
    "df.head()"
   ]
  },
  {
   "cell_type": "markdown",
   "id": "e6c92cc8",
   "metadata": {},
   "source": [
    "# Plotting the data "
   ]
  },
  {
   "cell_type": "markdown",
   "id": "52627fbd",
   "metadata": {},
   "source": [
    "We then plot the data with Hours on the X-axis and Scores on the Y-axis."
   ]
  },
  {
   "cell_type": "code",
   "execution_count": 5,
   "id": "e47207c4",
   "metadata": {},
   "outputs": [
    {
     "data": {
      "image/png": "[encoded data removed]",
      "text/plain": [
       "<Figure size 576x360 with 1 Axes>"
      ]
     },
     "metadata": {
      "needs_background": "light"
     },
     "output_type": "display_data"
    }
   ],
   "source": [
    "plt.figure(figsize=(8,5))\n",
    "sns.scatterplot(data=df,x='Hours',y='Scores')\n",
    "plt.title(\"The hours spent vs score obtained\") #title\n",
    "plt.xlabel(\"Hours\") #x label\n",
    "plt.ylabel(\"Scores\") #y label\n",
    "plt.show()"
   ]
  },
  {
   "cell_type": "markdown",
   "id": "f88ac03b",
   "metadata": {},
   "source": [
    "# Correlation matrix"
   ]
  },
  {
   "cell_type": "markdown",
   "id": "2b8ffc0b",
   "metadata": {},
   "source": [
    "To check the correlation between the two variables we create a correlation matrix."
   ]
  },
  {
   "cell_type": "code",
   "execution_count": 6,
   "id": "55dff0e3",
   "metadata": {},
   "outputs": [
    {
     "data": {
      "text/html": [
       "<div>\n",
       "<style scoped>\n",
       "    .dataframe tbody tr th:only-of-type {\n",
       "        vertical-align: middle;\n",
       "    }\n",
       "\n",
       "    .dataframe tbody tr th {\n",
       "        vertical-align: top;\n",
       "    }\n",
       "\n",
       "    .dataframe thead th {\n",
       "        text-align: right;\n",
       "    }\n",
       "</style>\n",
       "<table border=\"1\" class=\"dataframe\">\n",
       "  <thead>\n",
       "    <tr style=\"text-align: right;\">\n",
       "      <th></th>\n",
       "      <th>Hours</th>\n",
       "      <th>Scores</th>\n",
       "    </tr>\n",
       "  </thead>\n",
       "  <tbody>\n",
       "    <tr>\n",
       "      <th>Hours</th>\n",
       "      <td>1.000000</td>\n",
       "      <td>0.976191</td>\n",
       "    </tr>\n",
       "    <tr>\n",
       "      <th>Scores</th>\n",
       "      <td>0.976191</td>\n",
       "      <td>1.000000</td>\n",
       "    </tr>\n",
       "  </tbody>\n",
       "</table>\n",
       "</div>"
      ],
      "text/plain": [
       "           Hours    Scores\n",
       "Hours   1.000000  0.976191\n",
       "Scores  0.976191  1.000000"
      ]
     },
     "execution_count": 6,
     "metadata": {},
     "output_type": "execute_result"
    }
   ],
   "source": [
    "df.corr()"
   ]
  },
  {
   "cell_type": "markdown",
   "id": "1a14c47e",
   "metadata": {},
   "source": [
    "# Splitting the data"
   ]
  },
  {
   "cell_type": "markdown",
   "id": "34133137",
   "metadata": {},
   "source": [
    "We split the data into features and target variables."
   ]
  },
  {
   "cell_type": "code",
   "execution_count": 7,
   "id": "2153c4ab",
   "metadata": {},
   "outputs": [],
   "source": [
    "X = df.iloc[:, :-1].values  \n",
    "y = df.iloc[:, 1].values  "
   ]
  },
  {
   "cell_type": "markdown",
   "id": "ae0aa746",
   "metadata": {},
   "source": [
    "In order to train the model we split the data into train set and test set."
   ]
  },
  {
   "cell_type": "code",
   "execution_count": 8,
   "id": "9bca0d6a",
   "metadata": {},
   "outputs": [],
   "source": [
    "X_train, X_test, y_train, y_test = train_test_split(X, y, test_size=0.33, random_state=42)"
   ]
  },
  {
   "cell_type": "markdown",
   "id": "74a5b074",
   "metadata": {},
   "source": [
    "# Training"
   ]
  },
  {
   "cell_type": "markdown",
   "id": "8bb02e67",
   "metadata": {},
   "source": [
    "We first fit a normal linear regresser."
   ]
  },
  {
   "cell_type": "code",
   "execution_count": 9,
   "id": "b8d69ff7",
   "metadata": {},
   "outputs": [],
   "source": [
    "reg1 = LinearRegression()\n",
    "reg1.fit(X_train, y_train)\n",
    "pred1=reg1.predict(X_test)"
   ]
  },
  {
   "cell_type": "markdown",
   "id": "2b126e02",
   "metadata": {},
   "source": [
    "We then fit a Gradient Boosting Regresser."
   ]
  },
  {
   "cell_type": "code",
   "execution_count": 10,
   "id": "6ca93aa7",
   "metadata": {},
   "outputs": [],
   "source": [
    "reg2 = GradientBoostingRegressor(random_state=0)\n",
    "reg2.fit(X_train, y_train)\n",
    "pred2=reg2.predict(X_test)"
   ]
  },
  {
   "cell_type": "markdown",
   "id": "1d98b82a",
   "metadata": {},
   "source": [
    "Then we fit a Logistic Regresser."
   ]
  },
  {
   "cell_type": "code",
   "execution_count": 11,
   "id": "89c3f9e6",
   "metadata": {},
   "outputs": [
    {
     "name": "stderr",
     "output_type": "stream",
     "text": [
      "C:\\Users\\david\\anaconda3\\lib\\site-packages\\sklearn\\linear_model\\_logistic.py:814: ConvergenceWarning: lbfgs failed to converge (status=1):\n",
      "STOP: TOTAL NO. of ITERATIONS REACHED LIMIT.\n",
      "\n",
      "Increase the number of iterations (max_iter) or scale the data as shown in:\n",
      "    https://scikit-learn.org/stable/modules/preprocessing.html\n",
      "Please also refer to the documentation for alternative solver options:\n",
      "    https://scikit-learn.org/stable/modules/linear_model.html#logistic-regression\n",
      "  n_iter_i = _check_optimize_result(\n"
     ]
    }
   ],
   "source": [
    "reg3=LogisticRegression(random_state=0)\n",
    "reg3.fit(X_train, y_train)\n",
    "pred3=reg3.predict(X_test)"
   ]
  },
  {
   "cell_type": "markdown",
   "id": "0c82b532",
   "metadata": {},
   "source": [
    "Finally we fit an XGBoost Regresser."
   ]
  },
  {
   "cell_type": "code",
   "execution_count": 12,
   "id": "350fd19b",
   "metadata": {},
   "outputs": [],
   "source": [
    "reg4 = regressor = xgb.XGBRegressor(\n",
    "    n_estimators=100,\n",
    "    reg_lambda=1,\n",
    "    gamma=0,\n",
    "    max_depth=3\n",
    ")\n",
    "reg4.fit(X_train, y_train)\n",
    "pred4=reg4.predict(X_test)"
   ]
  },
  {
   "cell_type": "markdown",
   "id": "c4a43b4c",
   "metadata": {},
   "source": [
    "# Evaluation"
   ]
  },
  {
   "cell_type": "markdown",
   "id": "6fa6be6d",
   "metadata": {},
   "source": [
    "We then evaluate the regressers we have trained. The metrics used are Mean Absolute Error, Root Mean Squared Error and R2 Score."
   ]
  },
  {
   "cell_type": "code",
   "execution_count": 13,
   "id": "63a250f2",
   "metadata": {},
   "outputs": [
    {
     "name": "stdout",
     "output_type": "stream",
     "text": [
      "Linear Regresser:\n",
      "Mean absolute error: 4.564015037730867\n",
      "Root mean squared error: 4.90659620962037\n",
      "R2 score: 0.9435488190277577\n"
     ]
    }
   ],
   "source": [
    "print('Linear Regresser:')\n",
    "print('Mean absolute error:', mean_absolute_error(y_test, pred1))\n",
    "print('Root mean squared error:',mean_squared_error(y_test, pred1,squared=False))\n",
    "print('R2 score:',r2_score(y_test, pred1))"
   ]
  },
  {
   "cell_type": "code",
   "execution_count": 14,
   "id": "31e8948b",
   "metadata": {},
   "outputs": [
    {
     "name": "stdout",
     "output_type": "stream",
     "text": [
      "Gradient Boosting Regresser:\n",
      "Mean absolute error: 6.541765722395685\n",
      "Root mean squared error: 7.543372675748168\n",
      "R2 score: 0.8665730611005341\n"
     ]
    }
   ],
   "source": [
    "print('Gradient Boosting Regresser:')\n",
    "print('Mean absolute error:',mean_absolute_error(y_test, pred2))\n",
    "print('Root mean squared error:',mean_squared_error(y_test, pred2,squared=False))\n",
    "print('R2 score:',r2_score(y_test, pred2))"
   ]
  },
  {
   "cell_type": "code",
   "execution_count": 15,
   "id": "3ceed5fb",
   "metadata": {},
   "outputs": [
    {
     "name": "stdout",
     "output_type": "stream",
     "text": [
      "Logistic Regresser:\n",
      "Mean absolute error: 7.444444444444445\n",
      "Root mean squared error: 8.736894948054104\n",
      "R2 score: 0.8210108846688282\n"
     ]
    }
   ],
   "source": [
    "print('Logistic Regresser:')\n",
    "print('Mean absolute error:',mean_absolute_error(y_test, pred3))\n",
    "print('Root mean squared error:',mean_squared_error(y_test, pred3,squared=False))\n",
    "print('R2 score:',r2_score(y_test, pred3))"
   ]
  },
  {
   "cell_type": "code",
   "execution_count": 16,
   "id": "48b23a6a",
   "metadata": {},
   "outputs": [
    {
     "name": "stdout",
     "output_type": "stream",
     "text": [
      "XGBoost Regresser:\n",
      "Mean absolute error: 6.555120256212023\n",
      "Root mean squared error: 7.5632097480991165\n",
      "R2 score: 0.8658703833605529\n"
     ]
    }
   ],
   "source": [
    "print('XGBoost Regresser:')\n",
    "print('Mean absolute error:',mean_absolute_error(y_test, pred4))\n",
    "print('Root mean squared error:',mean_squared_error(y_test, pred4,squared=False))\n",
    "print('R2 score:',r2_score(y_test, pred4))"
   ]
  },
  {
   "cell_type": "markdown",
   "id": "4d4de294",
   "metadata": {},
   "source": [
    "As you can see the best result was obtained when Linear Regression was used. The plot for the linear regression is given below:"
   ]
  },
  {
   "cell_type": "code",
   "execution_count": 21,
   "id": "6261ff39",
   "metadata": {},
   "outputs": [
    {
     "data": {
      "text/plain": [
       "Text(0, 0.5, 'Scores')"
      ]
     },
     "execution_count": 21,
     "metadata": {},
     "output_type": "execute_result"
    },
    {
     "data": {
      "image/png": "[encoded data removed]",
      "text/plain": [
       "<Figure size 432x288 with 1 Axes>"
      ]
     },
     "metadata": {
      "needs_background": "light"
     },
     "output_type": "display_data"
    }
   ],
   "source": [
    "plt.scatter(X_test, y_test, color=\"black\")\n",
    "plt.plot(X_test, pred1, color=\"blue\", linewidth=3)\n",
    "plt.title(\"Linear Regression on Test Set\") #title\n",
    "plt.xlabel(\"Hours\") #x label\n",
    "plt.ylabel(\"Scores\") #y label"
   ]
  },
  {
   "cell_type": "markdown",
   "id": "a66c024d",
   "metadata": {},
   "source": [
    "# Results"
   ]
  },
  {
   "cell_type": "markdown",
   "id": "2b859a50",
   "metadata": {},
   "source": [
    "The given problem is a simple linear regression which is best solved using a linear regresser.\n",
    "To solve the problem in the question:What will be the predicted score if the student studies 9.25 hrs/day?"
   ]
  },
  {
   "cell_type": "code",
   "execution_count": 27,
   "id": "6b03646f",
   "metadata": {},
   "outputs": [
    {
     "name": "stdout",
     "output_type": "stream",
     "text": [
      "The answer is: 92.67022037739972 %\n"
     ]
    }
   ],
   "source": [
    "ans=reg1.predict([[9.25]])[0]\n",
    "print('The answer is:',ans,'%')"
   ]
  }
 ],
 "metadata": {
  "kernelspec": {
   "display_name": "Python 3 (ipykernel)",
   "language": "python",
   "name": "python3"
  },
  "language_info": {
   "codemirror_mode": {
    "name": "ipython",
    "version": 3
   },
   "file_extension": ".py",
   "mimetype": "text/x-python",
   "name": "python",
   "nbconvert_exporter": "python",
   "pygments_lexer": "ipython3",
   "version": "3.9.7"
  }
 },
 "nbformat": 4,
 "nbformat_minor": 5
}
